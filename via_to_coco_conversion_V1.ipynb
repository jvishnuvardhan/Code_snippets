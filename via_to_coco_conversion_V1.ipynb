{
  "cells": [
    {
      "cell_type": "markdown",
      "metadata": {
        "id": "view-in-github",
        "colab_type": "text"
      },
      "source": [
        "<a href=\"https://colab.research.google.com/github/jvishnuvardhan/Code_snippets/blob/master/via_to_coco_conversion_V1.ipynb\" target=\"_parent\"><img src=\"https://colab.research.google.com/assets/colab-badge.svg\" alt=\"Open In Colab\"/></a>"
      ]
    },
    {
      "cell_type": "markdown",
      "id": "4a920535",
      "metadata": {
        "id": "4a920535"
      },
      "source": [
        "## 1. VIA to COCO format conversion:"
      ]
    },
    {
      "cell_type": "code",
      "source": [
        "from pprint import pprint"
      ],
      "metadata": {
        "id": "icUqr5arrla4"
      },
      "id": "icUqr5arrla4",
      "execution_count": null,
      "outputs": []
    },
    {
      "cell_type": "code",
      "execution_count": null,
      "id": "567c961b",
      "metadata": {
        "id": "567c961b"
      },
      "outputs": [],
      "source": [
        "import os\n",
        "import skimage \n",
        "import math\n",
        "from itertools import chain\n",
        "import numpy as np\n",
        "import json\n",
        "\n",
        "# dataset_dir\n",
        "# vgg_path = './annotations_via_sample2.json'\n",
        "vgg_path_coco = '/content/train_coco.json'\n",
        "vgg_path = '/content/train_via_json.json'\n",
        "class_keyword = \"names\" #\"Material Type\"\n",
        "# subclass_keyword = \"\" #\"Product Type\"\n",
        "\n",
        "with open(vgg_path) as f:\n",
        "    vgg = json.load(f)"
      ]
    },
    {
      "cell_type": "code",
      "source": [
        "# to access height and width from coco json file\n",
        "with open(vgg_path_coco) as f:\n",
        "    vgg_coco = json.load(f)\n",
        "\n",
        "images_coco = vgg_coco['images']\n",
        "\n",
        "height_width =[]\n",
        "for image in images_coco:\n",
        "  # print(image)\n",
        "  height_width.append([image['height'], image['width']])\n",
        "\n",
        "print(height_width)"
      ],
      "metadata": {
        "id": "bQKOXJEu_8-L"
      },
      "id": "bQKOXJEu_8-L",
      "execution_count": null,
      "outputs": []
    },
    {
      "cell_type": "code",
      "execution_count": null,
      "id": "43086e1e",
      "metadata": {
        "id": "43086e1e",
        "outputId": "fd4f542b-5af0-41d5-c02f-a9c1a2fd5619",
        "colab": {
          "base_uri": "https://localhost:8080/"
        }
      },
      "outputs": [
        {
          "output_type": "execute_result",
          "data": {
            "text/plain": [
              "['359925415_fb5ea66be1_c.jpg137958',\n",
              " '404523005_f50e859da7_c.jpg144686',\n",
              " '2012120328_fd5c574885_c.jpg162831',\n",
              " '2928182339_57d9422d1d_c.jpg63838',\n",
              " '2928182583_1ac4d4e4b4_c.jpg96005',\n",
              " '6476255913_a1dccd4ab2_z.jpg82431',\n",
              " '6592413485_b54b0265bf_c.jpg93180',\n",
              " '7979493761_a91a5496cd_c.jpg163279',\n",
              " '10647071755_c864af9a57_c.jpg74111',\n",
              " '786678226_2971274d0c_c.jpg148474',\n",
              " '1302119263_9da3dc23eb_c.jpg163347',\n",
              " '1302871965_feca1e69c3_c.jpg184689',\n",
              " '1302906767_b2e92de824_c.jpg107747',\n",
              " '2245393517_6804a8184b_c.jpg105624',\n",
              " '2958135246_bbe9591e55_c.jpg144026',\n",
              " '14359024134_8d568f293f_c.jpg158380',\n",
              " '26276953382_579c1d263e_c.jpg117850',\n",
              " '47830670502_c612edd7bb_c.jpg179032']"
            ]
          },
          "metadata": {},
          "execution_count": 63
        }
      ],
      "source": [
        "list(vgg.keys())"
      ]
    },
    {
      "cell_type": "code",
      "source": [
        "# vgg['images'][:2]"
      ],
      "metadata": {
        "id": "hI8ezU4456ps"
      },
      "id": "hI8ezU4456ps",
      "execution_count": null,
      "outputs": []
    },
    {
      "cell_type": "code",
      "source": [
        "# print(images)"
      ],
      "metadata": {
        "id": "v8Jf2_yQ8VSn"
      },
      "id": "v8Jf2_yQ8VSn",
      "execution_count": null,
      "outputs": []
    },
    {
      "cell_type": "code",
      "source": [
        "print(vgg.values())"
      ],
      "metadata": {
        "colab": {
          "base_uri": "https://localhost:8080/"
        },
        "id": "VhdBFYB3-ZSc",
        "outputId": "9ffdeb17-9769-4c13-9a8b-27d1c1bea0f9"
      },
      "id": "VhdBFYB3-ZSc",
      "execution_count": null,
      "outputs": [
        {
          "output_type": "stream",
          "name": "stdout",
          "text": [
            "dict_values([{'filename': '359925415_fb5ea66be1_c.jpg', 'size': 137958, 'regions': [{'shape_attributes': {'name': 'polygon', 'all_points_x': [312, 618, 638, 675, 704, 715, 750, 765, 762, 718, 667, 512, 391, 310, 243, 150, 80, 55, 28, 24, 45, 118, 185, 202, 227, 276, 293], 'all_points_y': [405, 417, 442, 449, 419, 409, 394, 361, 301, 228, 207, 184, 182, 201, 238, 242, 253, 267, 298, 332, 367, 394, 401, 432, 450, 440, 427]}, 'region_attributes': {'names': 'Car'}}], 'file_attributes': {}}, {'filename': '404523005_f50e859da7_c.jpg', 'size': 144686, 'regions': [{'shape_attributes': {'name': 'polygon', 'all_points_x': [135, 290, 440, 476, 499, 529, 539, 675, 697, 711, 720, 714, 667, 657, 556, 428, 307, 211, 141, 123, 109, 117], 'all_points_y': [422, 459, 450, 479, 486, 457, 422, 360, 373, 365, 309, 265, 243, 227, 184, 179, 201, 249, 267, 325, 349, 383]}, 'region_attributes': {'names': 'Car'}}], 'file_attributes': {}}, {'filename': '2012120328_fd5c574885_c.jpg', 'size': 162831, 'regions': [{'shape_attributes': {'name': 'polygon', 'all_points_x': [211, 463, 485, 500, 515, 619, 627, 637, 642, 689, 696, 669, 669, 701, 659, 619, 587, 476, 363, 287, 255, 237, 176, 95, 78, 87, 74, 100, 137, 153, 178, 179], 'all_points_y': [406, 403, 444, 440, 389, 353, 380, 373, 330, 304, 247, 226, 216, 201, 194, 207, 155, 136, 141, 147, 160, 231, 249, 275, 293, 347, 365, 391, 408, 438, 435, 416]}, 'region_attributes': {'names': 'Car'}}], 'file_attributes': {}}, {'filename': '2928182339_57d9422d1d_c.jpg', 'size': 63838, 'regions': [{'shape_attributes': {'name': 'polygon', 'all_points_x': [267, 445, 513, 541, 612, 667, 715, 751, 771, 759, 726, 733, 766, 714, 656, 649, 537, 417, 370, 252, 161, 81, 35, 49, 149, 193], 'all_points_y': [475, 440, 446, 439, 447, 467, 465, 441, 381, 329, 295, 261, 236, 253, 271, 285, 289, 281, 280, 317, 327, 366, 405, 452, 470, 485]}, 'region_attributes': {'names': 'Car'}}], 'file_attributes': {}}, {'filename': '2928182583_1ac4d4e4b4_c.jpg', 'size': 96005, 'regions': [{'shape_attributes': {'name': 'polygon', 'all_points_x': [23, 194, 412, 568, 608, 618, 647, 669, 748, 759, 785, 789, 759, 741, 706, 615, 511, 429, 339, 279, 196, 121, 75, 51, 41, 13], 'all_points_y': [405, 504, 551, 560, 547, 559, 516, 449, 380, 390, 306, 244, 210, 181, 142, 118, 104, 101, 130, 151, 176, 208, 255, 329, 353, 368]}, 'region_attributes': {'names': 'Car'}}], 'file_attributes': {}}, {'filename': '6476255913_a1dccd4ab2_z.jpg', 'size': 82431, 'regions': [{'shape_attributes': {'name': 'polygon', 'all_points_x': [339, 376, 392, 568, 593, 609, 619, 618, 625, 614, 597, 527, 498, 453, 387, 301, 226, 202, 107, 42, 23, 30, 46, 103, 183, 259, 286, 307], 'all_points_y': [387, 379, 346, 297, 314, 312, 283, 268, 223, 186, 170, 170, 121, 113, 117, 135, 175, 196, 219, 254, 291, 342, 363, 374, 373, 372, 365, 361]}, 'region_attributes': {'names': 'Car'}}], 'file_attributes': {}}, {'filename': '6592413485_b54b0265bf_c.jpg', 'size': 93180, 'regions': [{'shape_attributes': {'name': 'polygon', 'all_points_x': [14, 19, 33, 36, 49, 93, 155, 205, 233, 237, 229, 197, 175, 152, 128, 88, 56, 42, 34, 24, 13, 9], 'all_points_y': [360, 345, 367, 399, 397, 404, 402, 389, 377, 350, 327, 306, 293, 275, 269, 272, 273, 277, 285, 289, 301, 323]}, 'region_attributes': {'names': 'Car'}}, {'shape_attributes': {'name': 'polygon', 'all_points_x': [351, 413, 439, 451, 447, 425, 401, 367, 347, 317, 295, 269, 237, 217, 207, 209, 239, 303], 'all_points_y': [377, 371, 365, 353, 332, 307, 300, 282, 276, 273, 273, 277, 281, 289, 298, 307, 341, 369]}, 'region_attributes': {'names': 'Car'}}, {'shape_attributes': {'name': 'polygon', 'all_points_x': [581, 623, 623, 590, 544, 517, 473, 433, 408, 399, 397, 449, 502, 543], 'all_points_y': [349, 343, 320, 295, 277, 269, 268, 274, 282, 284, 295, 326, 343, 349]}, 'region_attributes': {'names': 'Car'}}, {'shape_attributes': {'name': 'polygon', 'all_points_x': [719, 771, 788, 788, 764, 739, 695, 659, 619, 573, 553, 595, 627, 645], 'all_points_y': [340, 342, 333, 315, 301, 286, 274, 267, 263, 271, 275, 295, 319, 328]}, 'region_attributes': {'names': 'Car'}}], 'file_attributes': {}}, {'filename': '7979493761_a91a5496cd_c.jpg', 'size': 163279, 'regions': [{'shape_attributes': {'name': 'polygon', 'all_points_x': [19, 56, 99, 140, 158, 453, 493, 549, 593, 616, 769, 776, 753, 706, 682, 499, 442, 351, 215, 115, 111, 57, 42, 35, 16, 6], 'all_points_y': [471, 517, 516, 495, 480, 521, 571, 579, 562, 529, 493, 405, 345, 289, 277, 138, 121, 109, 112, 125, 147, 229, 257, 306, 345, 407]}, 'region_attributes': {'names': 'Car'}}], 'file_attributes': {}}, {'filename': '10647071755_c864af9a57_c.jpg', 'size': 74111, 'regions': [{'shape_attributes': {'name': 'polygon', 'all_points_x': [407, 619, 639, 660, 666, 681, 676, 657, 625, 518, 420, 329, 239, 183, 101, 57, 48, 51, 165, 254, 290, 340, 372, 393], 'all_points_y': [350, 322, 335, 323, 311, 305, 243, 216, 185, 143, 143, 156, 194, 209, 232, 255, 313, 348, 357, 341, 360, 361, 345, 338]}, 'region_attributes': {'names': 'Car'}}], 'file_attributes': {}}, {'filename': '786678226_2971274d0c_c.jpg', 'size': 148474, 'regions': [{'shape_attributes': {'name': 'polygon', 'all_points_x': [445, 519, 525, 545, 566, 701, 709, 717, 728, 757, 766, 555, 455, 257, 158, 133, 95, 89, 91], 'all_points_y': [543, 510, 541, 541, 501, 435, 459, 450, 417, 399, 202, 70, 42, 45, 63, 133, 308, 429, 492]}, 'region_attributes': {'names': 'Bus'}}], 'file_attributes': {}}, {'filename': '1302119263_9da3dc23eb_c.jpg', 'size': 163347, 'regions': [{'shape_attributes': {'name': 'polygon', 'all_points_x': [93, 434, 487, 499, 516, 534, 640, 647, 654, 665, 671, 723, 714, 685, 558, 494, 319, 109, 93, 89, 87, 84], 'all_points_y': [455, 464, 461, 490, 473, 454, 426, 449, 453, 433, 419, 389, 142, 95, 79, 89, 63, 82, 181, 309, 411, 447]}, 'region_attributes': {'names': 'Bus'}}], 'file_attributes': {}}, {'filename': '1302871965_feca1e69c3_c.jpg', 'size': 184689, 'regions': [{'shape_attributes': {'name': 'polygon', 'all_points_x': [96, 313, 414, 429, 445, 456, 587, 595, 603, 615, 653, 656, 651, 641, 573, 541, 262, 156, 105, 97], 'all_points_y': [389, 429, 401, 418, 411, 391, 337, 348, 347, 331, 305, 182, 163, 143, 137, 137, 81, 83, 97, 167]}, 'region_attributes': {'names': 'Bus'}}], 'file_attributes': {}}, {'filename': '1302906767_b2e92de824_c.jpg', 'size': 107747, 'regions': [{'shape_attributes': {'name': 'polygon', 'all_points_x': [53, 303, 337, 375, 404, 415, 691, 711, 739, 745, 782, 787, 761, 381, 171, 66, 35, 26, 27, 36], 'all_points_y': [387, 369, 414, 415, 397, 365, 335, 351, 354, 329, 324, 152, 134, 69, 39, 27, 115, 227, 312, 363]}, 'region_attributes': {'names': 'Bus'}}], 'file_attributes': {}}, {'filename': '2245393517_6804a8184b_c.jpg', 'size': 105624, 'regions': [{'shape_attributes': {'name': 'polygon', 'all_points_x': [180, 413, 425, 565, 579, 632, 643, 787, 797, 799, 533, 410, 301, 201, 195], 'all_points_y': [423, 443, 460, 448, 464, 454, 439, 427, 423, 145, 110, 96, 97, 113, 181]}, 'region_attributes': {'names': 'Bus'}}], 'file_attributes': {}}, {'filename': '2958135246_bbe9591e55_c.jpg', 'size': 144026, 'regions': [{'shape_attributes': {'name': 'polygon', 'all_points_x': [228, 247, 382, 411, 429, 443, 503, 503, 516, 523, 537, 535, 526, 457, 373, 291, 236, 208, 193, 177, 178, 187, 199, 201], 'all_points_y': [549, 531, 530, 551, 547, 518, 494, 515, 513, 494, 465, 399, 322, 298, 290, 288, 301, 321, 386, 450, 499, 519, 521, 542]}, 'region_attributes': {'names': 'Bus'}}], 'file_attributes': {}}, {'filename': '14359024134_8d568f293f_c.jpg', 'size': 158380, 'regions': [{'shape_attributes': {'name': 'polygon', 'all_points_x': [96, 179, 212, 289, 299, 316, 341, 377, 393, 511, 523, 532, 532, 515, 404, 330, 254, 156, 108, 83, 65, 56, 55, 71, 75], 'all_points_y': [653, 676, 668, 654, 691, 711, 715, 681, 659, 571, 577, 532, 292, 253, 169, 117, 105, 136, 167, 233, 343, 472, 595, 611, 636]}, 'region_attributes': {'names': 'Bus'}}], 'file_attributes': {}}, {'filename': '26276953382_579c1d263e_c.jpg', 'size': 117850, 'regions': [{'shape_attributes': {'name': 'polygon', 'all_points_x': [8, 151, 169, 189, 287, 387, 399, 326, 263, 230, 148, 48, 15], 'all_points_y': [277, 319, 339, 329, 342, 324, 42, 12, 3, 7, 37, 87, 109]}, 'region_attributes': {'names': 'Bus'}}, {'shape_attributes': {'name': 'polygon', 'all_points_x': [527, 394, 385, 411, 799, 796], 'all_points_y': [449, 413, 389, 3, 2, 446]}, 'region_attributes': {'names': 'Bus'}}], 'file_attributes': {}}, {'filename': '47830670502_c612edd7bb_c.jpg', 'size': 179032, 'regions': [{'shape_attributes': {'name': 'polygon', 'all_points_x': [74, 67, 78, 175, 191, 210, 225, 521, 582, 621, 706, 733, 731, 715, 677, 638, 451, 373, 315, 273, 221], 'all_points_y': [148, 295, 323, 339, 351, 349, 346, 390, 399, 389, 372, 351, 308, 225, 153, 135, 139, 122, 121, 131, 126]}, 'region_attributes': {'names': 'Bus'}}], 'file_attributes': {}}])\n"
          ]
        }
      ]
    },
    {
      "cell_type": "code",
      "source": [
        "# pprint(vgg)"
      ],
      "metadata": {
        "id": "fjPKxdosrsMA"
      },
      "id": "fjPKxdosrsMA",
      "execution_count": null,
      "outputs": []
    },
    {
      "cell_type": "code",
      "execution_count": null,
      "id": "468bcb34",
      "metadata": {
        "id": "468bcb34"
      },
      "outputs": [],
      "source": [
        "images_ids_dict = {}\n",
        "images_info = []\n",
        "\n",
        "for i,v in enumerate(vgg.values()):\n",
        "  # print(v)\n",
        "  images_ids_dict[v[\"filename\"]] = i\n",
        "  height, width = height_width[i] #[1080, 1920]  \n",
        "  images_info.append({\"file_name\": v[\"filename\"], \"id\": i, \"width\": width, \"height\": height})\n",
        "\n",
        "# when subclass exists    \n",
        "# classes = {class_keyword} | {r[\"region_attributes\"][class_keyword]+\"_\"+r[\"region_attributes\"][subclass_keyword]\n",
        "#                              for v in vgg.values() \n",
        "#                              if v[\"regions\"]!=[]\n",
        "#                              for r in v[\"regions\"]\n",
        "#                          if (class_keyword in r[\"region_attributes\"].keys() and subclass_keyword in r[\"region_attributes\"].keys())}\n",
        "\n",
        "# when subclass doesn't exist\n",
        "classes = {r[\"region_attributes\"][class_keyword]\n",
        "                             for v in vgg.values() \n",
        "                             if v[\"regions\"]!=[]\n",
        "                             for r in v[\"regions\"]\n",
        "                         if (class_keyword in r[\"region_attributes\"].keys())}\n",
        "                         \n",
        "category_ids_dict = {c: i for i, c in enumerate(classes, 1)}\n",
        "categories = [{\"supercategory\": class_keyword, \"id\": v, \"name\": k} for k, v in category_ids_dict.items()]"
      ]
    },
    {
      "cell_type": "code",
      "source": [
        "print(classes)"
      ],
      "metadata": {
        "colab": {
          "base_uri": "https://localhost:8080/"
        },
        "id": "T6ObJfdYPxm2",
        "outputId": "3cf5ecdd-2603-4c1d-f29a-f3616b74789a"
      },
      "id": "T6ObJfdYPxm2",
      "execution_count": null,
      "outputs": [
        {
          "output_type": "stream",
          "name": "stdout",
          "text": [
            "{'Car', 'Bus'}\n"
          ]
        }
      ]
    },
    {
      "cell_type": "code",
      "source": [
        "category_ids_dict"
      ],
      "metadata": {
        "colab": {
          "base_uri": "https://localhost:8080/"
        },
        "id": "_68cVPTGQRkr",
        "outputId": "92473ab6-b9d8-4c6c-c906-1571f0d6d992"
      },
      "id": "_68cVPTGQRkr",
      "execution_count": null,
      "outputs": [
        {
          "output_type": "execute_result",
          "data": {
            "text/plain": [
              "{'Bus': 2, 'Car': 1}"
            ]
          },
          "metadata": {},
          "execution_count": 85
        }
      ]
    },
    {
      "cell_type": "code",
      "execution_count": null,
      "id": "cc184047",
      "metadata": {
        "id": "cc184047"
      },
      "outputs": [],
      "source": [
        "annotations = []\n",
        "suffix_zeros = math.ceil(math.log10(len(vgg)))\n",
        "\n",
        "def PolyArea(x,y):\n",
        "    return 0.5*np.abs(np.dot(x,np.roll(y,1))-np.dot(y,np.roll(x,1)))\n",
        "\n",
        "for i, v in enumerate(vgg.values()):\n",
        "    for j, r in enumerate(v[\"regions\"]):\n",
        "        if class_keyword in r[\"region_attributes\"]: #and subclass_keyword in r[\"region_attributes\"]:\n",
        "            x, y = r[\"shape_attributes\"][\"all_points_x\"], r[\"shape_attributes\"][\"all_points_y\"]\n",
        "            annotations.append({\n",
        "                \"segmentation\": [list(chain.from_iterable(zip(x, y)))],\n",
        "                \"area\": PolyArea(x, y),\n",
        "                \"bbox\": [min(x), min(y), max(x)-min(x), max(y)-min(y)],\n",
        "                \"image_id\": images_ids_dict[v[\"filename\"]],\n",
        "                \"category_id\": category_ids_dict[r[\"region_attributes\"][class_keyword]], #\"category_id\": category_ids_dict[r[\"region_attributes\"][class_keyword]+\"_\"+r[\"region_attributes\"][subclass_keyword]],\n",
        "                \"id\": int(f\"{i:0>{suffix_zeros}}{j:0>{suffix_zeros}}\"),\n",
        "                \"iscrowd\": 0\n",
        "                })"
      ]
    },
    {
      "cell_type": "code",
      "execution_count": null,
      "id": "3d820c88",
      "metadata": {
        "id": "3d820c88"
      },
      "outputs": [],
      "source": [
        "coco = {\n",
        "    \"images\": images_info,\n",
        "    \"categories\": categories,\n",
        "    \"annotations\": annotations\n",
        "    }\n",
        "\n",
        "outfile = vgg_path.replace(\"via\", \"coco\")\n",
        "\n",
        "with open(outfile, \"w\") as f:\n",
        "    json.dump(coco, f)"
      ]
    },
    {
      "cell_type": "code",
      "execution_count": null,
      "id": "9da4147c",
      "metadata": {
        "id": "9da4147c"
      },
      "outputs": [],
      "source": []
    },
    {
      "cell_type": "markdown",
      "source": [
        "**COCO to VIA**"
      ],
      "metadata": {
        "id": "J1AtVZc3Wmo3"
      },
      "id": "J1AtVZc3Wmo3"
    },
    {
      "cell_type": "code",
      "source": [
        "from google.colab import drive\n",
        "drive.mount('/content/gdrive')\n",
        "!ln -s /content/gdrive/My\\ Drive/ /mydrive"
      ],
      "metadata": {
        "colab": {
          "base_uri": "https://localhost:8080/"
        },
        "id": "B0TwVRGWWh9d",
        "outputId": "42607426-c93a-47a8-c842-3b4bca237146"
      },
      "id": "B0TwVRGWWh9d",
      "execution_count": null,
      "outputs": [
        {
          "output_type": "stream",
          "name": "stdout",
          "text": [
            "Mounted at /content/gdrive\n"
          ]
        }
      ]
    },
    {
      "cell_type": "code",
      "source": [
        " import json\n",
        "\n",
        "# coco = './coco_format_conversion/annotations_coco_sample1.json'\n",
        "coco = '/content/train_coco_json.json' # via annotations\n",
        "# via = './coco_format_conversion/annotations_via_sample1.json'\n",
        "\n",
        "with open(coco) as f:\n",
        "  vgg1 = json.load(f)\n",
        "\n",
        "# with open(via) as f:\n",
        "#     vgg2 = json.load(f)"
      ],
      "metadata": {
        "id": "9qTyhM9SWh_-"
      },
      "id": "9qTyhM9SWh_-",
      "execution_count": null,
      "outputs": []
    },
    {
      "cell_type": "code",
      "source": [
        "vgg1.keys()"
      ],
      "metadata": {
        "colab": {
          "base_uri": "https://localhost:8080/"
        },
        "id": "veK82lxOZlOC",
        "outputId": "cb6fb44f-cb5b-4303-cebc-dbfd69f80717"
      },
      "id": "veK82lxOZlOC",
      "execution_count": null,
      "outputs": [
        {
          "output_type": "execute_result",
          "data": {
            "text/plain": [
              "dict_keys(['images', 'categories', 'annotations'])"
            ]
          },
          "metadata": {},
          "execution_count": 77
        }
      ]
    },
    {
      "cell_type": "code",
      "source": [
        "vgg1['images']"
      ],
      "metadata": {
        "colab": {
          "base_uri": "https://localhost:8080/"
        },
        "id": "4lr3y6vEZ1No",
        "outputId": "b5ee0ff0-f8b3-4688-d847-66ecdf3aa708"
      },
      "id": "4lr3y6vEZ1No",
      "execution_count": null,
      "outputs": [
        {
          "output_type": "execute_result",
          "data": {
            "text/plain": [
              "[{'file_name': '359925415_fb5ea66be1_c.jpg',\n",
              "  'height': 533,\n",
              "  'id': 0,\n",
              "  'width': 799},\n",
              " {'file_name': '404523005_f50e859da7_c.jpg',\n",
              "  'height': 600,\n",
              "  'id': 1,\n",
              "  'width': 800},\n",
              " {'file_name': '2012120328_fd5c574885_c.jpg',\n",
              "  'height': 533,\n",
              "  'id': 2,\n",
              "  'width': 800},\n",
              " {'file_name': '2928182339_57d9422d1d_c.jpg',\n",
              "  'height': 600,\n",
              "  'id': 3,\n",
              "  'width': 800},\n",
              " {'file_name': '2928182583_1ac4d4e4b4_c.jpg',\n",
              "  'height': 600,\n",
              "  'id': 4,\n",
              "  'width': 800},\n",
              " {'file_name': '6476255913_a1dccd4ab2_z.jpg',\n",
              "  'height': 480,\n",
              "  'id': 5,\n",
              "  'width': 640},\n",
              " {'file_name': '6592413485_b54b0265bf_c.jpg',\n",
              "  'height': 513,\n",
              "  'id': 6,\n",
              "  'width': 800},\n",
              " {'file_name': '7979493761_a91a5496cd_c.jpg',\n",
              "  'height': 600,\n",
              "  'id': 7,\n",
              "  'width': 800},\n",
              " {'file_name': '10647071755_c864af9a57_c.jpg',\n",
              "  'height': 450,\n",
              "  'id': 8,\n",
              "  'width': 800},\n",
              " {'file_name': '786678226_2971274d0c_c.jpg',\n",
              "  'height': 600,\n",
              "  'id': 9,\n",
              "  'width': 800},\n",
              " {'file_name': '1302119263_9da3dc23eb_c.jpg',\n",
              "  'height': 536,\n",
              "  'id': 10,\n",
              "  'width': 800},\n",
              " {'file_name': '1302871965_feca1e69c3_c.jpg',\n",
              "  'height': 536,\n",
              "  'id': 11,\n",
              "  'width': 800},\n",
              " {'file_name': '1302906767_b2e92de824_c.jpg',\n",
              "  'height': 438,\n",
              "  'id': 12,\n",
              "  'width': 800},\n",
              " {'file_name': '2245393517_6804a8184b_c.jpg',\n",
              "  'height': 536,\n",
              "  'id': 13,\n",
              "  'width': 800},\n",
              " {'file_name': '2958135246_bbe9591e55_c.jpg',\n",
              "  'height': 800,\n",
              "  'id': 14,\n",
              "  'width': 600},\n",
              " {'file_name': '14359024134_8d568f293f_c.jpg',\n",
              "  'height': 799,\n",
              "  'id': 15,\n",
              "  'width': 533},\n",
              " {'file_name': '26276953382_579c1d263e_c.jpg',\n",
              "  'height': 450,\n",
              "  'id': 16,\n",
              "  'width': 800},\n",
              " {'file_name': '47830670502_c612edd7bb_c.jpg',\n",
              "  'height': 534,\n",
              "  'id': 17,\n",
              "  'width': 800}]"
            ]
          },
          "metadata": {},
          "execution_count": 75
        }
      ]
    },
    {
      "cell_type": "code",
      "source": [
        "# vgg2.keys()"
      ],
      "metadata": {
        "colab": {
          "base_uri": "https://localhost:8080/"
        },
        "id": "YlYCdAEoWiCi",
        "outputId": "8577c79f-c975-4935-c677-190e9ae7f851"
      },
      "id": "YlYCdAEoWiCi",
      "execution_count": null,
      "outputs": [
        {
          "output_type": "execute_result",
          "data": {
            "text/plain": [
              "dict_keys(['20210826-105458.png', '20210826-105503.png', '20210826-105512.png', '20210826-105514.png', '20210826-105521.png', '20210826-105529.png', '20210826-105532.png', '20210826-105534.png', '20210826-105601.png', '20210826-105603.png', '20210826-105635.png', '20210826-105639.png', '20210826-105646.png', '20210826-105651.png', '20210826-105656.png', '20210826-105700.png', '20210826-105704.png', '20210826-105706.png', '20210826-105712.png', '20210826-105718.png', '20210826-105724.png', '20210826-105727.png', '20210826-105729.png', '20210826-105743.png', '20210826-105801.png', '20210826-105805.png', '20210826-105826.png', '20210826-105830.png', '20210826-105842.png', '20210826-105844.png', '20210826-105850.png', '20210826-105853.png', '20210826-105856.png', '20210826-105901.png', '20210826-105906.png', '20210826-105912.png', '20210826-105916.png', '20210826-105921.png', '20210826-105924.png', '20210826-105926.png', '20210826-105928.png', '20210826-105931.png', '20210826-105935.png', '20210826-105942.png', '20210826-105945.png', '20210826-105948.png', '20210826-105954.png', '20210826-105957.png'])"
            ]
          },
          "metadata": {},
          "execution_count": 8
        }
      ]
    },
    {
      "cell_type": "code",
      "source": [
        "# vgg2['20210826-105458.png']"
      ],
      "metadata": {
        "colab": {
          "base_uri": "https://localhost:8080/"
        },
        "id": "tVQ3fKGPZ-cV",
        "outputId": "040854b1-568a-428b-bb40-7af19ded0890"
      },
      "id": "tVQ3fKGPZ-cV",
      "execution_count": null,
      "outputs": [
        {
          "output_type": "execute_result",
          "data": {
            "text/plain": [
              "{'file_attributes': {},\n",
              " 'filename': '20210826-105458.png',\n",
              " 'regions': [{'region_attributes': {'Material Type': 'PET',\n",
              "    'Product Type': 'alcohol Bottles'},\n",
              "   'shape_attributes': {'all_points_x': [1185,\n",
              "     1161,\n",
              "     1148,\n",
              "     1165,\n",
              "     1246,\n",
              "     1271,\n",
              "     1294,\n",
              "     1319,\n",
              "     1290,\n",
              "     1292,\n",
              "     1222,\n",
              "     1200],\n",
              "    'all_points_y': [140,\n",
              "     170,\n",
              "     199,\n",
              "     216,\n",
              "     263,\n",
              "     256,\n",
              "     269,\n",
              "     241,\n",
              "     227,\n",
              "     199,\n",
              "     158,\n",
              "     142],\n",
              "    'name': 'polygon'}},\n",
              "  {'region_attributes': {'Material Type': 'HDPE-Rigid',\n",
              "    'Product Type': 'Food Packing '},\n",
              "   'shape_attributes': {'all_points_x': [1319,\n",
              "     1281,\n",
              "     1253,\n",
              "     1255,\n",
              "     1249,\n",
              "     1306,\n",
              "     1332,\n",
              "     1364,\n",
              "     1417,\n",
              "     1441,\n",
              "     1404,\n",
              "     1358,\n",
              "     1338],\n",
              "    'all_points_y': [297,\n",
              "     326,\n",
              "     365,\n",
              "     387,\n",
              "     424,\n",
              "     477,\n",
              "     485,\n",
              "     464,\n",
              "     427,\n",
              "     372,\n",
              "     315,\n",
              "     293,\n",
              "     291],\n",
              "    'name': 'polygon'}},\n",
              "  {'region_attributes': {'Material Type': 'Others',\n",
              "    'Product Type': 'Hit spray bottles'},\n",
              "   'shape_attributes': {'all_points_x': [1131,\n",
              "     1096,\n",
              "     1072,\n",
              "     1058,\n",
              "     1122,\n",
              "     1176,\n",
              "     1211,\n",
              "     1225,\n",
              "     1244,\n",
              "     1275,\n",
              "     1264,\n",
              "     1270,\n",
              "     1179],\n",
              "    'all_points_y': [297,\n",
              "     306,\n",
              "     319,\n",
              "     339,\n",
              "     461,\n",
              "     569,\n",
              "     604,\n",
              "     628,\n",
              "     615,\n",
              "     604,\n",
              "     569,\n",
              "     553,\n",
              "     387],\n",
              "    'name': 'polygon'}},\n",
              "  {'region_attributes': {'Material Type': 'PET',\n",
              "    'Product Type': 'String energy bottles'},\n",
              "   'shape_attributes': {'all_points_x': [1122,\n",
              "     1071,\n",
              "     1082,\n",
              "     1174,\n",
              "     1214,\n",
              "     1286,\n",
              "     1297,\n",
              "     1332,\n",
              "     1345,\n",
              "     1310,\n",
              "     1294,\n",
              "     1249,\n",
              "     1238,\n",
              "     1227,\n",
              "     1185,\n",
              "     1137],\n",
              "    'all_points_y': [527,\n",
              "     577,\n",
              "     601,\n",
              "     695,\n",
              "     706,\n",
              "     768,\n",
              "     800,\n",
              "     792,\n",
              "     770,\n",
              "     737,\n",
              "     720,\n",
              "     663,\n",
              "     632,\n",
              "     632,\n",
              "     584,\n",
              "     529],\n",
              "    'name': 'polygon'}},\n",
              "  {'region_attributes': {'Material Type': 'HDPE-Rigid',\n",
              "    'Product Type': 'Washing brush'},\n",
              "   'shape_attributes': {'all_points_x': [698,\n",
              "     702,\n",
              "     708,\n",
              "     711,\n",
              "     724,\n",
              "     744,\n",
              "     755,\n",
              "     763,\n",
              "     778,\n",
              "     779,\n",
              "     820,\n",
              "     811,\n",
              "     805,\n",
              "     763,\n",
              "     767,\n",
              "     746,\n",
              "     735],\n",
              "    'all_points_y': [700,\n",
              "     822,\n",
              "     951,\n",
              "     986,\n",
              "     993,\n",
              "     1001,\n",
              "     982,\n",
              "     989,\n",
              "     982,\n",
              "     993,\n",
              "     953,\n",
              "     857,\n",
              "     713,\n",
              "     680,\n",
              "     695,\n",
              "     689,\n",
              "     682],\n",
              "    'name': 'polygon'}},\n",
              "  {'region_attributes': {'Material Type': 'HDPE-Rigid',\n",
              "    'Product Type': 'plastic containers'},\n",
              "   'shape_attributes': {'all_points_x': [571,\n",
              "     555,\n",
              "     549,\n",
              "     575,\n",
              "     621,\n",
              "     665,\n",
              "     682,\n",
              "     689,\n",
              "     660,\n",
              "     621],\n",
              "    'all_points_y': [593, 615, 654, 691, 702, 687, 669, 623, 580, 568],\n",
              "    'name': 'polygon'}},\n",
              "  {'region_attributes': {'Material Type': 'PET',\n",
              "    'Product Type': 'Water bottle'},\n",
              "   'shape_attributes': {'all_points_x': [269,\n",
              "     315,\n",
              "     302,\n",
              "     304,\n",
              "     293,\n",
              "     302,\n",
              "     302,\n",
              "     278,\n",
              "     249,\n",
              "     227,\n",
              "     219,\n",
              "     193,\n",
              "     144,\n",
              "     100,\n",
              "     55,\n",
              "     24,\n",
              "     2,\n",
              "     2,\n",
              "     88,\n",
              "     135,\n",
              "     162,\n",
              "     195,\n",
              "     251],\n",
              "    'all_points_y': [531,\n",
              "     553,\n",
              "     575,\n",
              "     577,\n",
              "     586,\n",
              "     630,\n",
              "     665,\n",
              "     691,\n",
              "     724,\n",
              "     763,\n",
              "     792,\n",
              "     837,\n",
              "     923,\n",
              "     973,\n",
              "     971,\n",
              "     956,\n",
              "     943,\n",
              "     857,\n",
              "     733,\n",
              "     680,\n",
              "     612,\n",
              "     584,\n",
              "     564],\n",
              "    'name': 'polygon'}},\n",
              "  {'region_attributes': {'Material Type': 'HDPE-Rigid',\n",
              "    'Product Type': 'Trays'},\n",
              "   'shape_attributes': {'all_points_x': [175,\n",
              "     135,\n",
              "     123,\n",
              "     142,\n",
              "     164,\n",
              "     195,\n",
              "     249,\n",
              "     267,\n",
              "     319,\n",
              "     330,\n",
              "     297,\n",
              "     263,\n",
              "     206],\n",
              "    'all_points_y': [450,\n",
              "     494,\n",
              "     540,\n",
              "     591,\n",
              "     606,\n",
              "     580,\n",
              "     560,\n",
              "     529,\n",
              "     551,\n",
              "     496,\n",
              "     453,\n",
              "     435,\n",
              "     433],\n",
              "    'name': 'polygon'}},\n",
              "  {'region_attributes': {'Material Type': 'HDPE-Rigid',\n",
              "    'Product Type': 'Honey Bottle'},\n",
              "   'shape_attributes': {'all_points_x': [444,\n",
              "     427,\n",
              "     435,\n",
              "     442,\n",
              "     475,\n",
              "     496,\n",
              "     588,\n",
              "     601,\n",
              "     575,\n",
              "     498,\n",
              "     479],\n",
              "    'all_points_y': [411, 448, 492, 505, 509, 518, 516, 437, 402, 402, 409],\n",
              "    'name': 'polygon'}},\n",
              "  {'region_attributes': {'Material Type': 'PET',\n",
              "    'Product Type': 'Water bottle'},\n",
              "   'shape_attributes': {'all_points_x': [660,\n",
              "     608,\n",
              "     597,\n",
              "     534,\n",
              "     490,\n",
              "     466,\n",
              "     451,\n",
              "     496,\n",
              "     521,\n",
              "     582,\n",
              "     639,\n",
              "     660,\n",
              "     678,\n",
              "     691,\n",
              "     691,\n",
              "     711,\n",
              "     676],\n",
              "    'all_points_y': [208,\n",
              "     214,\n",
              "     227,\n",
              "     275,\n",
              "     304,\n",
              "     317,\n",
              "     341,\n",
              "     396,\n",
              "     396,\n",
              "     350,\n",
              "     308,\n",
              "     297,\n",
              "     286,\n",
              "     252,\n",
              "     241,\n",
              "     232,\n",
              "     219],\n",
              "    'name': 'polygon'}},\n",
              "  {'region_attributes': {'Material Type': 'Others',\n",
              "    'Product Type': 'News paper'},\n",
              "   'shape_attributes': {'all_points_x': [665,\n",
              "     728,\n",
              "     748,\n",
              "     757,\n",
              "     765,\n",
              "     792,\n",
              "     798,\n",
              "     825,\n",
              "     868,\n",
              "     872,\n",
              "     879,\n",
              "     879,\n",
              "     899,\n",
              "     888,\n",
              "     864,\n",
              "     848,\n",
              "     849,\n",
              "     772,\n",
              "     735,\n",
              "     711,\n",
              "     678,\n",
              "     660,\n",
              "     630,\n",
              "     601,\n",
              "     638,\n",
              "     647,\n",
              "     656],\n",
              "    'all_points_y': [136,\n",
              "     157,\n",
              "     162,\n",
              "     171,\n",
              "     164,\n",
              "     158,\n",
              "     147,\n",
              "     147,\n",
              "     153,\n",
              "     135,\n",
              "     138,\n",
              "     155,\n",
              "     164,\n",
              "     193,\n",
              "     197,\n",
              "     205,\n",
              "     219,\n",
              "     230,\n",
              "     238,\n",
              "     225,\n",
              "     216,\n",
              "     203,\n",
              "     208,\n",
              "     212,\n",
              "     166,\n",
              "     144,\n",
              "     146],\n",
              "    'name': 'polygon'}},\n",
              "  {'region_attributes': {'Material Type': 'PP-Flexible',\n",
              "    'Product Type': 'Food packing covers'},\n",
              "   'shape_attributes': {'all_points_x': [46,\n",
              "     76,\n",
              "     96,\n",
              "     111,\n",
              "     125,\n",
              "     135,\n",
              "     138,\n",
              "     158,\n",
              "     146,\n",
              "     133,\n",
              "     103,\n",
              "     79,\n",
              "     52,\n",
              "     44,\n",
              "     6,\n",
              "     4,\n",
              "     17],\n",
              "    'all_points_y': [545,\n",
              "     553,\n",
              "     555,\n",
              "     566,\n",
              "     571,\n",
              "     586,\n",
              "     595,\n",
              "     608,\n",
              "     639,\n",
              "     676,\n",
              "     691,\n",
              "     695,\n",
              "     698,\n",
              "     682,\n",
              "     685,\n",
              "     614,\n",
              "     588],\n",
              "    'name': 'polygon'}}],\n",
              " 'size': -1}"
            ]
          },
          "metadata": {},
          "execution_count": 13
        }
      ]
    },
    {
      "cell_type": "code",
      "source": [
        "# !ls ./coco_format_conversion/sample_images1/ | wc -l"
      ],
      "metadata": {
        "colab": {
          "base_uri": "https://localhost:8080/"
        },
        "id": "oU5vpPeZacQV",
        "outputId": "836446e1-b4e5-40b8-fd43-e44a0764c5fa"
      },
      "id": "oU5vpPeZacQV",
      "execution_count": null,
      "outputs": [
        {
          "output_type": "stream",
          "name": "stdout",
          "text": [
            "48\n"
          ]
        }
      ]
    },
    {
      "cell_type": "code",
      "source": [
        "# sample2 - 271\n",
        "# sample1 - 48"
      ],
      "metadata": {
        "id": "IUVywMSYfXUo"
      },
      "id": "IUVywMSYfXUo",
      "execution_count": null,
      "outputs": []
    },
    {
      "cell_type": "markdown",
      "source": [
        "**Get the material type only from JSON file**"
      ],
      "metadata": {
        "id": "PiL7nl3QmArW"
      },
      "id": "PiL7nl3QmArW"
    },
    {
      "cell_type": "code",
      "source": [
        "# file = './coco_format_conversion/annotations_coco_sample1.json'\n",
        "# with open(file) as f:\n",
        "#   coco = json.load(f)"
      ],
      "metadata": {
        "id": "F1WeBAZcC0LY"
      },
      "id": "F1WeBAZcC0LY",
      "execution_count": null,
      "outputs": []
    },
    {
      "cell_type": "code",
      "source": [
        "#  import json\n",
        "\n",
        "# file = './coco_format_conversion/annotations_via_sample1.json'\n",
        "\n",
        "# with open(file) as f:\n",
        "#   vgg = json.load(f)"
      ],
      "metadata": {
        "id": "5yY9EcbYgkUg"
      },
      "id": "5yY9EcbYgkUg",
      "execution_count": null,
      "outputs": []
    },
    {
      "cell_type": "code",
      "source": [
        "# import tqdm\n",
        "# l = []\n",
        "# for i in tqdm.tqdm(vgg.keys()):\n",
        "#   # print(i)\n",
        "#   for j in range(len(vgg[i]['regions'])):\n",
        "#     # print(j)\n",
        "#     if 'Material Type' in vgg[i]['regions'][j]['region_attributes'].keys() and not bool(vgg[i]['regions'][j]['region_attributes']) == False:\n",
        "#       l.append(vgg[i]['regions'][j]['region_attributes']['Material Type'])\n"
      ],
      "metadata": {
        "colab": {
          "base_uri": "https://localhost:8080/"
        },
        "id": "daW39rbeiLWe",
        "outputId": "7115fac5-7d22-42ad-d04f-d2d46dad6073"
      },
      "id": "daW39rbeiLWe",
      "execution_count": null,
      "outputs": [
        {
          "output_type": "stream",
          "name": "stderr",
          "text": [
            "100%|██████████| 271/271 [00:00<00:00, 35797.95it/s]\n"
          ]
        }
      ]
    },
    {
      "cell_type": "code",
      "source": [
        "# import numpy as np\n",
        "# np.unique(np.unique(l)),len(np.unique(np.unique(l)))"
      ],
      "metadata": {
        "colab": {
          "base_uri": "https://localhost:8080/"
        },
        "id": "wZucLn6yks6L",
        "outputId": "68f29666-d9fc-49fb-c3b9-909b4d9e26e8"
      },
      "id": "wZucLn6yks6L",
      "execution_count": null,
      "outputs": [
        {
          "output_type": "execute_result",
          "data": {
            "text/plain": [
              "(array(['HDPE-Rigid', 'Others', 'PET', 'PP-Flexible'], dtype='<U11'), 4)"
            ]
          },
          "metadata": {},
          "execution_count": 69
        }
      ]
    },
    {
      "cell_type": "code",
      "source": [
        "# import numpy as np\n",
        "# np.unique(np.unique(l)),len(np.unique(np.unique(l)))"
      ],
      "metadata": {
        "colab": {
          "base_uri": "https://localhost:8080/"
        },
        "id": "jBg3e00-lxXC",
        "outputId": "5111a62e-481c-4d2e-dc49-8d0b12ffd71b"
      },
      "id": "jBg3e00-lxXC",
      "execution_count": null,
      "outputs": [
        {
          "output_type": "execute_result",
          "data": {
            "text/plain": [
              "(array(['HDPE-Flexible', 'HIPC', 'LDPE-Flexible', 'MLP', 'Others', 'PET',\n",
              "        'PP-Flexible', 'Unknown'], dtype='<U13'), 8)"
            ]
          },
          "metadata": {},
          "execution_count": 82
        }
      ]
    },
    {
      "cell_type": "code",
      "source": [
        "# vgg.keys()"
      ],
      "metadata": {
        "colab": {
          "base_uri": "https://localhost:8080/"
        },
        "id": "xva-putm-LXg",
        "outputId": "de736d63-5b58-444e-b891-77e5076b370f"
      },
      "id": "xva-putm-LXg",
      "execution_count": null,
      "outputs": [
        {
          "output_type": "execute_result",
          "data": {
            "text/plain": [
              "dict_keys(['20210826-105458.png', '20210826-105503.png', '20210826-105512.png', '20210826-105514.png', '20210826-105521.png', '20210826-105529.png', '20210826-105532.png', '20210826-105534.png', '20210826-105601.png', '20210826-105603.png', '20210826-105635.png', '20210826-105639.png', '20210826-105646.png', '20210826-105651.png', '20210826-105656.png', '20210826-105700.png', '20210826-105704.png', '20210826-105706.png', '20210826-105712.png', '20210826-105718.png', '20210826-105724.png', '20210826-105727.png', '20210826-105729.png', '20210826-105743.png', '20210826-105801.png', '20210826-105805.png', '20210826-105826.png', '20210826-105830.png', '20210826-105842.png', '20210826-105844.png', '20210826-105850.png', '20210826-105853.png', '20210826-105856.png', '20210826-105901.png', '20210826-105906.png', '20210826-105912.png', '20210826-105916.png', '20210826-105921.png', '20210826-105924.png', '20210826-105926.png', '20210826-105928.png', '20210826-105931.png', '20210826-105935.png', '20210826-105942.png', '20210826-105945.png', '20210826-105948.png', '20210826-105954.png', '20210826-105957.png'])"
            ]
          },
          "metadata": {},
          "execution_count": 13
        }
      ]
    },
    {
      "cell_type": "code",
      "source": [
        "# vgg['20210826-105458.png']"
      ],
      "metadata": {
        "id": "vOPzOmMn-Pcf"
      },
      "id": "vOPzOmMn-Pcf",
      "execution_count": 3,
      "outputs": []
    },
    {
      "cell_type": "code",
      "source": [
        "# name = '20210826-105458.png'\n",
        "# vgg[name].keys()"
      ],
      "metadata": {
        "colab": {
          "base_uri": "https://localhost:8080/"
        },
        "id": "oef92X-9K0pF",
        "outputId": "ef9f7698-1c65-4bc2-bc30-d87c79e9ee4c"
      },
      "id": "oef92X-9K0pF",
      "execution_count": null,
      "outputs": [
        {
          "output_type": "execute_result",
          "data": {
            "text/plain": [
              "dict_keys(['filename', 'size', 'regions', 'file_attributes'])"
            ]
          },
          "metadata": {},
          "execution_count": 24
        }
      ]
    },
    {
      "cell_type": "code",
      "source": [
        "# gg = {}\n",
        "# gg['20210826-105458.png'] = {}\n",
        "# gg['20210826-105458.png']['file_attributes'] = {}\n",
        "# gg['20210826-105458.png']['filename'] = '20210826-105458.png'\n",
        "# regions_list = []\n",
        "# di = {}\n",
        "# di['region_attributes'] = {'Material Type':}\n",
        "# gg['20210826-105458.png']['regions'] = regions_list\n",
        "# gg['20210826-105458.png']['size'] = -1\n",
        "# gg"
      ],
      "metadata": {
        "id": "0cjMRYnV-eE7"
      },
      "id": "0cjMRYnV-eE7",
      "execution_count": null,
      "outputs": []
    },
    {
      "cell_type": "code",
      "source": [
        "# import tqdm\n",
        "# l = []\n",
        "# for i in tqdm.tqdm(vgg.keys()):\n",
        "#   print(i)\n",
        "#   for j in vgg[i]['regions']:\n",
        "#     print(j)\n",
        "#     if 'Material Type' in j['region_attributes'].keys() and not bool(j['region_attributes']) == False:\n",
        "#       l.append(j['region_attributes']['Material Type'])\n",
        "#     else:\n",
        "#       del j"
      ],
      "metadata": {
        "id": "2PefFDc8WLTg"
      },
      "id": "2PefFDc8WLTg",
      "execution_count": 1,
      "outputs": []
    },
    {
      "cell_type": "code",
      "source": [
        "# import tqdm\n",
        "# l = []\n",
        "# for i in tqdm.tqdm(vgg.keys()):\n",
        "#   print(i)\n",
        "#   for j in range(len(vgg[i]['regions'])):\n",
        "#     print(j)\n",
        "#     # if 'Material Type' in vgg[i]['regions'][j]['region_attributes'].keys() and not bool(vgg[i]['regions'][j]['region_attributes']) == False:\n",
        "#     l.append(vgg[i]['regions'][j]['region_attributes']['Material Type'])\n",
        "#     # else:\n",
        "#     #   del vgg[i]['regions'][j]"
      ],
      "metadata": {
        "id": "NPQow-MsnSTB"
      },
      "id": "NPQow-MsnSTB",
      "execution_count": 2,
      "outputs": []
    },
    {
      "cell_type": "code",
      "source": [
        "vgg['20210826-105532.png']['regions']"
      ],
      "metadata": {
        "colab": {
          "base_uri": "https://localhost:8080/",
          "height": 170
        },
        "id": "7VpENWiQngcv",
        "outputId": "b8a151a1-7a6f-4c34-b1f5-9caa267a3729"
      },
      "id": "7VpENWiQngcv",
      "execution_count": null,
      "outputs": [
        {
          "output_type": "error",
          "ename": "IndexError",
          "evalue": "ignored",
          "traceback": [
            "\u001b[0;31m---------------------------------------------------------------------------\u001b[0m",
            "\u001b[0;31mIndexError\u001b[0m                                Traceback (most recent call last)",
            "\u001b[0;32m<ipython-input-7-e281bfe84bb8>\u001b[0m in \u001b[0;36m<module>\u001b[0;34m()\u001b[0m\n\u001b[0;32m----> 1\u001b[0;31m \u001b[0mvgg\u001b[0m\u001b[0;34m[\u001b[0m\u001b[0;34m'20210826-105532.png'\u001b[0m\u001b[0;34m]\u001b[0m\u001b[0;34m[\u001b[0m\u001b[0;34m'regions'\u001b[0m\u001b[0;34m]\u001b[0m\u001b[0;34m[\u001b[0m\u001b[0;36m13\u001b[0m\u001b[0;34m]\u001b[0m\u001b[0;34m\u001b[0m\u001b[0;34m\u001b[0m\u001b[0m\n\u001b[0m",
            "\u001b[0;31mIndexError\u001b[0m: list index out of range"
          ]
        }
      ]
    }
  ],
  "metadata": {
    "kernelspec": {
      "display_name": "Python 3",
      "language": "python",
      "name": "python3"
    },
    "language_info": {
      "codemirror_mode": {
        "name": "ipython",
        "version": 3
      },
      "file_extension": ".py",
      "mimetype": "text/x-python",
      "name": "python",
      "nbconvert_exporter": "python",
      "pygments_lexer": "ipython3",
      "version": "3.7.10"
    },
    "colab": {
      "provenance": [],
      "collapsed_sections": [],
      "include_colab_link": true
    }
  },
  "nbformat": 4,
  "nbformat_minor": 5
}